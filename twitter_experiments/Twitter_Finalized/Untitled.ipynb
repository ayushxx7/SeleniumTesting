{
 "cells": [
  {
   "cell_type": "code",
   "execution_count": 2,
   "metadata": {},
   "outputs": [],
   "source": [
    "from api_action_lib import *"
   ]
  },
  {
   "cell_type": "code",
   "execution_count": 3,
   "metadata": {},
   "outputs": [
    {
     "data": {
      "text/plain": [
       "{'youthfoundationss@gmail.com': <tweepy.api.API at 0x105eb1da0>,\n",
       " '8860222944': <tweepy.api.API at 0x105ee96a0>,\n",
       " 'akanksha009verma@gmail.com': <tweepy.api.API at 0x105ee9ef0>,\n",
       " '8743051683': <tweepy.api.API at 0x105f67208>,\n",
       " 'divyabhatnagar.aap@gmail.com': <tweepy.api.API at 0x105f675f8>,\n",
       " 'mariamkhan.aap@gmail.com': <tweepy.api.API at 0x105f679e8>,\n",
       " 'abhaymahajanrr@gmail.com': <tweepy.api.API at 0x105f67dd8>,\n",
       " 'bansalimishrarr@gmail.com': <tweepy.api.API at 0x105f6f208>,\n",
       " '@Ind_againstRape': <tweepy.api.API at 0x105f6f5f8>,\n",
       " '@CharuSharmaAAP': <tweepy.api.API at 0x105f6f9e8>,\n",
       " '@PrinceMishraAAP': <tweepy.api.API at 0x105f6fdd8>}"
      ]
     },
     "execution_count": 3,
     "metadata": {},
     "output_type": "execute_result"
    }
   ],
   "source": [
    "api_dict"
   ]
  },
  {
   "cell_type": "code",
   "execution_count": 8,
   "metadata": {},
   "outputs": [
    {
     "name": "stdout",
     "output_type": "stream",
     "text": [
      "youthfoundationss@gmail.com\n",
      "True\n",
      "<class 'int'>\n",
      "8860222944\n",
      "True\n",
      "<class 'int'>\n",
      "akanksha009verma@gmail.com\n",
      "True\n",
      "<class 'int'>\n",
      "8743051683\n",
      "True\n",
      "<class 'int'>\n",
      "divyabhatnagar.aap@gmail.com\n",
      "True\n",
      "<class 'int'>\n",
      "mariamkhan.aap@gmail.com\n",
      "True\n",
      "<class 'int'>\n",
      "abhaymahajanrr@gmail.com\n",
      "True\n",
      "<class 'int'>\n",
      "bansalimishrarr@gmail.com\n",
      "True\n",
      "<class 'int'>\n",
      "@Ind_againstRape\n",
      "True\n",
      "<class 'int'>\n",
      "@CharuSharmaAAP\n",
      "True\n",
      "<class 'int'>\n",
      "@PrinceMishraAAP\n",
      "True\n",
      "<class 'int'>\n"
     ]
    }
   ],
   "source": [
    "for current_username in api_dict.keys():\n",
    "        print(current_username)\n",
    "        for tweet in tweepy.Cursor(api_dict[current_username].user_timeline).items(1):\n",
    "            print(tweet.user.screen_name == api_dict[current_username].me().screen_name)\n",
    "            print(type(tweet.id))  "
   ]
  },
  {
   "cell_type": "code",
   "execution_count": 9,
   "metadata": {},
   "outputs": [
    {
     "name": "stdout",
     "output_type": "stream",
     "text": [
      "youthfoundationss@gmail.com\n",
      "8860222944\n",
      "akanksha009verma@gmail.com\n",
      "8743051683\n",
      "divyabhatnagar.aap@gmail.com\n",
      "mariamkhan.aap@gmail.com\n",
      "abhaymahajanrr@gmail.com\n",
      "bansalimishrarr@gmail.com\n",
      "@Ind_againstRape\n",
      "@CharuSharmaAAP\n",
      "@PrinceMishraAAP\n"
     ]
    }
   ],
   "source": [
    "for current_username in api_dict.keys():\n",
    "        print(current_username)\n",
    "        api_dict[current_username].retweet(1018109618516643840)"
   ]
  },
  {
   "cell_type": "code",
   "execution_count": null,
   "metadata": {},
   "outputs": [],
   "source": []
  }
 ],
 "metadata": {
  "kernelspec": {
   "display_name": "Python 3",
   "language": "python",
   "name": "python3"
  },
  "language_info": {
   "codemirror_mode": {
    "name": "ipython",
    "version": 3
   },
   "file_extension": ".py",
   "mimetype": "text/x-python",
   "name": "python",
   "nbconvert_exporter": "python",
   "pygments_lexer": "ipython3",
   "version": "3.6.5"
  }
 },
 "nbformat": 4,
 "nbformat_minor": 2
}
