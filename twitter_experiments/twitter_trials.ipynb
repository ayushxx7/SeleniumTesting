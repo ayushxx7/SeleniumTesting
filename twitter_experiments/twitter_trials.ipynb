{
 "cells": [
  {
   "cell_type": "markdown",
   "metadata": {},
   "source": [
    "#### Authorization procedure"
   ]
  },
  {
   "cell_type": "code",
   "execution_count": 11,
   "metadata": {},
   "outputs": [],
   "source": [
    "\n",
    "import tweepy\n",
    "\n",
    "\"\"\"\n",
    "Note: The Credentials(key) are to be stored in a file called access_keys.py and stored in the current folder.\n",
    "I am not pushing the credentials due to security reasons.\n",
    "\"\"\"\n",
    "\n",
    "from access_keys import consumer_key, consumer_secret, access_token, access_token_secret\n",
    "\n",
    "auth = tweepy.OAuthHandler(consumer_key, consumer_secret)\n",
    "auth.set_access_token(access_token, access_token_secret)\n",
    "\n",
    "api = tweepy.API(auth)"
   ]
  },
  {
   "cell_type": "markdown",
   "metadata": {},
   "source": [
    "#### tweeting and destroying a tweet"
   ]
  },
  {
   "cell_type": "code",
   "execution_count": 2,
   "metadata": {},
   "outputs": [],
   "source": [
    "tweet = api.update_status(\"hello world. It is another good day.\")"
   ]
  },
  {
   "cell_type": "code",
   "execution_count": 3,
   "metadata": {},
   "outputs": [
    {
     "data": {
      "text/plain": [
       "1016745965338886144"
      ]
     },
     "execution_count": 3,
     "metadata": {},
     "output_type": "execute_result"
    }
   ],
   "source": [
    "tweet.id"
   ]
  },
  {
   "cell_type": "code",
   "execution_count": 7,
   "metadata": {},
   "outputs": [],
   "source": [
    "deleted_tweet = api.destroy_status(tweet.id)"
   ]
  },
  {
   "cell_type": "code",
   "execution_count": 8,
   "metadata": {},
   "outputs": [
    {
     "data": {
      "text/plain": [
       "datetime.datetime(2018, 6, 29, 11, 16, 53)"
      ]
     },
     "execution_count": 8,
     "metadata": {},
     "output_type": "execute_result"
    }
   ],
   "source": [
    "deleted_tweet.created_at"
   ]
  },
  {
   "cell_type": "markdown",
   "metadata": {},
   "source": [
    "#### printing followers count of all the friends(the people I am following)"
   ]
  },
  {
   "cell_type": "code",
   "execution_count": 9,
   "metadata": {},
   "outputs": [],
   "source": [
    "friends =  api.friends()"
   ]
  },
  {
   "cell_type": "code",
   "execution_count": 11,
   "metadata": {},
   "outputs": [
    {
     "name": "stdout",
     "output_type": "stream",
     "text": [
      "Virat Kohli - 25687852\n",
      "Suresh Raina - 14781790\n",
      "Sachin Tendulkar - 26617845\n",
      "Virender Sehwag - 17585163\n"
     ]
    }
   ],
   "source": [
    "for friend in tweepy.Cursor(api.friends).items():\n",
    "    print(friend.name, friend.followers_count, sep = ' - ')"
   ]
  },
  {
   "cell_type": "markdown",
   "metadata": {},
   "source": [
    "#### Relation between ids of tweets and retweets"
   ]
  },
  {
   "cell_type": "code",
   "execution_count": 48,
   "metadata": {},
   "outputs": [],
   "source": [
    "retweeted_tweet = api.retweet(tweet.id)"
   ]
  },
  {
   "cell_type": "code",
   "execution_count": 50,
   "metadata": {},
   "outputs": [],
   "source": [
    "unretweeted_tweet = api.unretweet(retweeted_tweet.id)"
   ]
  },
  {
   "cell_type": "code",
   "execution_count": 51,
   "metadata": {},
   "outputs": [
    {
     "data": {
      "text/plain": [
       "True"
      ]
     },
     "execution_count": 51,
     "metadata": {},
     "output_type": "execute_result"
    }
   ],
   "source": [
    "unretweeted_tweet == tweet"
   ]
  },
  {
   "cell_type": "code",
   "execution_count": 52,
   "metadata": {},
   "outputs": [
    {
     "data": {
      "text/plain": [
       "False"
      ]
     },
     "execution_count": 52,
     "metadata": {},
     "output_type": "execute_result"
    }
   ],
   "source": [
    "retweeted_tweet == unretweeted_tweet"
   ]
  },
  {
   "cell_type": "code",
   "execution_count": 53,
   "metadata": {},
   "outputs": [
    {
     "data": {
      "text/plain": [
       "False"
      ]
     },
     "execution_count": 53,
     "metadata": {},
     "output_type": "execute_result"
    }
   ],
   "source": [
    "retweeted_tweet == tweet"
   ]
  },
  {
   "cell_type": "markdown",
   "metadata": {},
   "source": [
    "#### Get information about a specific twitter user(Change the screen name in the line below to get info of a different user)"
   ]
  },
  {
   "cell_type": "code",
   "execution_count": 13,
   "metadata": {},
   "outputs": [],
   "source": [
    "user = api.get_user(\"Ayushxx7\")"
   ]
  },
  {
   "cell_type": "code",
   "execution_count": 14,
   "metadata": {},
   "outputs": [
    {
     "data": {
      "text/plain": [
       "2143"
      ]
     },
     "execution_count": 14,
     "metadata": {},
     "output_type": "execute_result"
    }
   ],
   "source": [
    "user.statuses_count"
   ]
  },
  {
   "cell_type": "code",
   "execution_count": 15,
   "metadata": {},
   "outputs": [
    {
     "data": {
      "text/plain": [
       "15"
      ]
     },
     "execution_count": 15,
     "metadata": {},
     "output_type": "execute_result"
    }
   ],
   "source": [
    "user.favourites_count"
   ]
  },
  {
   "cell_type": "code",
   "execution_count": 16,
   "metadata": {},
   "outputs": [
    {
     "data": {
      "text/plain": [
       "'Ayush Mandowara'"
      ]
     },
     "execution_count": 16,
     "metadata": {},
     "output_type": "execute_result"
    }
   ],
   "source": [
    "user.name"
   ]
  },
  {
   "cell_type": "code",
   "execution_count": 17,
   "metadata": {},
   "outputs": [
    {
     "data": {
      "text/plain": [
       "'en'"
      ]
     },
     "execution_count": 17,
     "metadata": {},
     "output_type": "execute_result"
    }
   ],
   "source": [
    "user.lang"
   ]
  },
  {
   "cell_type": "code",
   "execution_count": 18,
   "metadata": {},
   "outputs": [
    {
     "data": {
      "text/plain": [
       "'New Delhi, India'"
      ]
     },
     "execution_count": 18,
     "metadata": {},
     "output_type": "execute_result"
    }
   ],
   "source": [
    "user.location"
   ]
  },
  {
   "cell_type": "code",
   "execution_count": 19,
   "metadata": {},
   "outputs": [
    {
     "data": {
      "text/plain": [
       "65"
      ]
     },
     "execution_count": 19,
     "metadata": {},
     "output_type": "execute_result"
    }
   ],
   "source": [
    "user.followers_count"
   ]
  },
  {
   "cell_type": "code",
   "execution_count": 20,
   "metadata": {},
   "outputs": [
    {
     "data": {
      "text/plain": [
       "78"
      ]
     },
     "execution_count": 20,
     "metadata": {},
     "output_type": "execute_result"
    }
   ],
   "source": [
    "user.friends_count"
   ]
  },
  {
   "cell_type": "code",
   "execution_count": 21,
   "metadata": {},
   "outputs": [
    {
     "name": "stdout",
     "output_type": "stream",
     "text": [
      "follower name - Number of followers\n",
      "Tobias Sippl - 6906\n",
      "The Malliard Report - 89835\n",
      "Klick Invite - 1\n",
      "Shubham Jain - 1\n",
      "Akiraov - 20\n",
      "Aditya Mathur - 9\n",
      "Promit Chakraborty - 29\n",
      "Ram Kishore - 16\n",
      "Vinod Kumar - 16\n",
      "Prashant Borda - 200\n",
      "Kritika - 6\n",
      "Ghanshyam Pandey - 19\n",
      "Ayushi Khurana - 3\n",
      "Neeraj Jain - 3\n",
      "2TRILL - 4904\n",
      "Young Lit Hippies - 38094\n",
      "suraj kumar - 38\n",
      "Ivan B George - 18\n",
      "Raju Mandovara - 4\n",
      "Inder Pal Singh - 2\n"
     ]
    }
   ],
   "source": [
    "'''\n",
    "Note : Please run these two lines only if the number of followers(and friends respectively) is reasonably low\n",
    "Change the count limits in the assert statements as needed.\n",
    "'''\n",
    "# Printing the names and follower count of user's followers\n",
    "assert user.followers_count <= 100\n",
    "assert user.followers_count > 0\n",
    "print(\"follower name\", \"Number of followers\", sep = ' - ')\n",
    "for follower in user.followers():\n",
    "    print(follower.name, follower.followers_count, sep = ' - ')"
   ]
  },
  {
   "cell_type": "code",
   "execution_count": 22,
   "metadata": {},
   "outputs": [
    {
     "name": "stdout",
     "output_type": "stream",
     "text": [
      "friend's screen name - Number of followers\n",
      "TheLastPeg - 8924\n",
      "KyaUkhaadLega - 301033\n",
      "HaramiParindey - 73106\n",
      "fjamie013 - 1444448\n",
      "prakmandovara - 39\n",
      "Saurabh_Chugh01 - 12\n",
      "sagnik12roy - 3\n",
      "SankeKoli - 9\n",
      "Shubham78100 - 11\n",
      "Shivam995343 - 245\n",
      "aakash95bansal - 32\n",
      "Deadshot1070521 - 9\n",
      "Adityakoli0010 - 49\n",
      "sudarshanshekh3 - 2\n",
      "Nitesh12162221 - 12\n",
      "pulkitkkr0 - 27\n",
      "iamthedevil014 - 2\n",
      "bymridul - 58\n",
      "Pratyasharma - 8\n",
      "SudhirMangla1 - 18\n"
     ]
    }
   ],
   "source": [
    "# Printing the names and follower count of user's friends\n",
    "assert user.friends_count <= 100 \n",
    "assert user.friends_count > 0\n",
    "print(\"friend's screen name\", \"Number of followers\", sep = ' - ')\n",
    "for friend in user.friends():\n",
    "    print(friend.screen_name, friend.followers_count, sep = ' - ' )"
   ]
  },
  {
   "cell_type": "markdown",
   "metadata": {},
   "source": [
    "Remaining number of API requests available to the requesting user before the API limit is reached for the current hour."
   ]
  },
  {
   "cell_type": "code",
   "execution_count": 12,
   "metadata": {},
   "outputs": [],
   "source": [
    "rate_limits = api.rate_limit_status()['resources']"
   ]
  },
  {
   "cell_type": "code",
   "execution_count": 13,
   "metadata": {},
   "outputs": [
    {
     "data": {
      "text/plain": [
       "{'lists': {'/lists/list': {'limit': 15, 'remaining': 15, 'reset': 1531432268},\n",
       "  '/lists/memberships': {'limit': 75, 'remaining': 75, 'reset': 1531432268},\n",
       "  '/lists/subscribers/show': {'limit': 15,\n",
       "   'remaining': 15,\n",
       "   'reset': 1531432268},\n",
       "  '/lists/members': {'limit': 900, 'remaining': 900, 'reset': 1531432268},\n",
       "  '/lists/subscriptions': {'limit': 15, 'remaining': 15, 'reset': 1531432268},\n",
       "  '/lists/show': {'limit': 75, 'remaining': 75, 'reset': 1531432268},\n",
       "  '/lists/ownerships': {'limit': 15, 'remaining': 15, 'reset': 1531432268},\n",
       "  '/lists/subscribers': {'limit': 180, 'remaining': 180, 'reset': 1531432268},\n",
       "  '/lists/members/show': {'limit': 15, 'remaining': 15, 'reset': 1531432268},\n",
       "  '/lists/statuses': {'limit': 900, 'remaining': 900, 'reset': 1531432268}},\n",
       " 'application': {'/application/rate_limit_status': {'limit': 180,\n",
       "   'remaining': 178,\n",
       "   'reset': 1531432069}},\n",
       " 'mutes': {'/mutes/users/list': {'limit': 15,\n",
       "   'remaining': 15,\n",
       "   'reset': 1531432268},\n",
       "  '/mutes/users/ids': {'limit': 15, 'remaining': 15, 'reset': 1531432268}},\n",
       " 'live_video_stream': {'/live_video_stream/status/:id': {'limit': 1000,\n",
       "   'remaining': 1000,\n",
       "   'reset': 1531432268}},\n",
       " 'friendships': {'/friendships/outgoing': {'limit': 15,\n",
       "   'remaining': 15,\n",
       "   'reset': 1531432268},\n",
       "  '/friendships/list': {'limit': 200, 'remaining': 200, 'reset': 1531432268},\n",
       "  '/friendships/no_retweets/ids': {'limit': 15,\n",
       "   'remaining': 15,\n",
       "   'reset': 1531432268},\n",
       "  '/friendships/lookup': {'limit': 15, 'remaining': 15, 'reset': 1531432268},\n",
       "  '/friendships/incoming': {'limit': 15, 'remaining': 15, 'reset': 1531432268},\n",
       "  '/friendships/show': {'limit': 180, 'remaining': 180, 'reset': 1531432268}},\n",
       " 'guide': {'/guide': {'limit': 180, 'remaining': 180, 'reset': 1531432268}},\n",
       " 'auth': {'/auth/csrf_token': {'limit': 15,\n",
       "   'remaining': 15,\n",
       "   'reset': 1531432268}},\n",
       " 'blocks': {'/blocks/list': {'limit': 15,\n",
       "   'remaining': 15,\n",
       "   'reset': 1531432268},\n",
       "  '/blocks/ids': {'limit': 15, 'remaining': 15, 'reset': 1531432268}},\n",
       " 'geo': {'/geo/similar_places': {'limit': 15,\n",
       "   'remaining': 15,\n",
       "   'reset': 1531432268},\n",
       "  '/geo/id/:place_id': {'limit': 75, 'remaining': 75, 'reset': 1531432268},\n",
       "  '/geo/reverse_geocode': {'limit': 15, 'remaining': 15, 'reset': 1531432268},\n",
       "  '/geo/search': {'limit': 15, 'remaining': 15, 'reset': 1531432268}},\n",
       " 'users': {'/users/report_spam': {'limit': 15,\n",
       "   'remaining': 15,\n",
       "   'reset': 1531432268},\n",
       "  '/users/contributors/pending': {'limit': 2000,\n",
       "   'remaining': 2000,\n",
       "   'reset': 1531432268},\n",
       "  '/users/show/:id': {'limit': 900, 'remaining': 900, 'reset': 1531432268},\n",
       "  '/users/search': {'limit': 900, 'remaining': 900, 'reset': 1531432268},\n",
       "  '/users/suggestions/:slug': {'limit': 15,\n",
       "   'remaining': 15,\n",
       "   'reset': 1531432268},\n",
       "  '/users/contributees/pending': {'limit': 200,\n",
       "   'remaining': 200,\n",
       "   'reset': 1531432268},\n",
       "  '/users/derived_info': {'limit': 15, 'remaining': 15, 'reset': 1531432268},\n",
       "  '/users/profile_banner': {'limit': 180,\n",
       "   'remaining': 180,\n",
       "   'reset': 1531432268},\n",
       "  '/users/suggestions/:slug/members': {'limit': 15,\n",
       "   'remaining': 15,\n",
       "   'reset': 1531432268},\n",
       "  '/users/lookup': {'limit': 900, 'remaining': 900, 'reset': 1531432268},\n",
       "  '/users/suggestions': {'limit': 15, 'remaining': 15, 'reset': 1531432268}},\n",
       " 'followers': {'/followers/ids': {'limit': 15,\n",
       "   'remaining': 15,\n",
       "   'reset': 1531432268},\n",
       "  '/followers/list': {'limit': 15, 'remaining': 15, 'reset': 1531432268}},\n",
       " 'collections': {'/collections/list': {'limit': 1000,\n",
       "   'remaining': 1000,\n",
       "   'reset': 1531432268},\n",
       "  '/collections/entries': {'limit': 1000,\n",
       "   'remaining': 1000,\n",
       "   'reset': 1531432268},\n",
       "  '/collections/show': {'limit': 1000,\n",
       "   'remaining': 1000,\n",
       "   'reset': 1531432268}},\n",
       " 'statuses': {'/statuses/retweeters/ids': {'limit': 75,\n",
       "   'remaining': 75,\n",
       "   'reset': 1531432268},\n",
       "  '/statuses/retweets_of_me': {'limit': 75,\n",
       "   'remaining': 75,\n",
       "   'reset': 1531432268},\n",
       "  '/statuses/home_timeline': {'limit': 15,\n",
       "   'remaining': 15,\n",
       "   'reset': 1531432268},\n",
       "  '/statuses/show/:id': {'limit': 900, 'remaining': 900, 'reset': 1531432268},\n",
       "  '/statuses/user_timeline': {'limit': 900,\n",
       "   'remaining': 900,\n",
       "   'reset': 1531432268},\n",
       "  '/statuses/friends': {'limit': 15, 'remaining': 15, 'reset': 1531432268},\n",
       "  '/statuses/retweets/:id': {'limit': 75,\n",
       "   'remaining': 75,\n",
       "   'reset': 1531432268},\n",
       "  '/statuses/mentions_timeline': {'limit': 75,\n",
       "   'remaining': 75,\n",
       "   'reset': 1531432268},\n",
       "  '/statuses/oembed': {'limit': 180, 'remaining': 180, 'reset': 1531432268},\n",
       "  '/statuses/lookup': {'limit': 900, 'remaining': 900, 'reset': 1531432268}},\n",
       " 'custom_profiles': {'/custom_profiles/list': {'limit': 180,\n",
       "   'remaining': 180,\n",
       "   'reset': 1531432268},\n",
       "  '/custom_profiles/show': {'limit': 180,\n",
       "   'remaining': 180,\n",
       "   'reset': 1531432268}},\n",
       " 'webhooks': {'/webhooks/subscriptions/direct_messages': {'limit': 15,\n",
       "   'remaining': 15,\n",
       "   'reset': 1531432268},\n",
       "  '/webhooks': {'limit': 15, 'remaining': 15, 'reset': 1531432268}},\n",
       " 'contacts': {'/contacts/uploaded_by': {'limit': 300,\n",
       "   'remaining': 300,\n",
       "   'reset': 1531432268},\n",
       "  '/contacts/users': {'limit': 300, 'remaining': 300, 'reset': 1531432268},\n",
       "  '/contacts/addressbook': {'limit': 300,\n",
       "   'remaining': 300,\n",
       "   'reset': 1531432268},\n",
       "  '/contacts/users_and_uploaded_by': {'limit': 300,\n",
       "   'remaining': 300,\n",
       "   'reset': 1531432268},\n",
       "  '/contacts/delete/status': {'limit': 300,\n",
       "   'remaining': 300,\n",
       "   'reset': 1531432268}},\n",
       " 'i': {'/i/config': {'limit': 15, 'remaining': 15, 'reset': 1531432268}},\n",
       " 'tweet_prompts': {'/tweet_prompts/report_interaction': {'limit': 180,\n",
       "   'remaining': 180,\n",
       "   'reset': 1531432268},\n",
       "  '/tweet_prompts/show': {'limit': 180,\n",
       "   'remaining': 180,\n",
       "   'reset': 1531432268}},\n",
       " 'moments': {'/moments/statuses/update': {'limit': 5,\n",
       "   'remaining': 5,\n",
       "   'reset': 1531432268},\n",
       "  '/moments/permissions': {'limit': 300,\n",
       "   'remaining': 300,\n",
       "   'reset': 1531432268}},\n",
       " 'help': {'/help/tos': {'limit': 15, 'remaining': 15, 'reset': 1531432268},\n",
       "  '/help/configuration': {'limit': 15, 'remaining': 15, 'reset': 1531432268},\n",
       "  '/help/settings': {'limit': 15, 'remaining': 15, 'reset': 1531432268},\n",
       "  '/help/privacy': {'limit': 15, 'remaining': 15, 'reset': 1531432268},\n",
       "  '/help/languages': {'limit': 15, 'remaining': 15, 'reset': 1531432268}},\n",
       " 'feedback': {'/feedback/show/:id': {'limit': 180,\n",
       "   'remaining': 180,\n",
       "   'reset': 1531432268},\n",
       "  '/feedback/events': {'limit': 1000, 'remaining': 1000, 'reset': 1531432268}},\n",
       " 'business_experience': {'/business_experience/dashboard_settings/destroy': {'limit': 450,\n",
       "   'remaining': 450,\n",
       "   'reset': 1531432268},\n",
       "  '/business_experience/dashboard_features': {'limit': 450,\n",
       "   'remaining': 450,\n",
       "   'reset': 1531432268},\n",
       "  '/business_experience/keywords': {'limit': 450,\n",
       "   'remaining': 450,\n",
       "   'reset': 1531432268},\n",
       "  '/business_experience/dashboard_settings/update': {'limit': 450,\n",
       "   'remaining': 450,\n",
       "   'reset': 1531432268},\n",
       "  '/business_experience/dashboard_settings/show': {'limit': 450,\n",
       "   'remaining': 450,\n",
       "   'reset': 1531432268}},\n",
       " 'friends': {'/friends/following/ids': {'limit': 15,\n",
       "   'remaining': 15,\n",
       "   'reset': 1531432268},\n",
       "  '/friends/following/list': {'limit': 15,\n",
       "   'remaining': 15,\n",
       "   'reset': 1531432268},\n",
       "  '/friends/list': {'limit': 15, 'remaining': 15, 'reset': 1531432268},\n",
       "  '/friends/ids': {'limit': 15, 'remaining': 15, 'reset': 1531432268}},\n",
       " 'sandbox': {'/sandbox/account_activity/webhooks/:id/subscriptions': {'limit': 500,\n",
       "   'remaining': 500,\n",
       "   'reset': 1531432268}},\n",
       " 'drafts': {'/drafts/statuses/update': {'limit': 450,\n",
       "   'remaining': 450,\n",
       "   'reset': 1531432268},\n",
       "  '/drafts/statuses/destroy': {'limit': 450,\n",
       "   'remaining': 450,\n",
       "   'reset': 1531432268},\n",
       "  '/drafts/statuses/ids': {'limit': 450,\n",
       "   'remaining': 450,\n",
       "   'reset': 1531432268},\n",
       "  '/drafts/statuses/list': {'limit': 450,\n",
       "   'remaining': 450,\n",
       "   'reset': 1531432268},\n",
       "  '/drafts/statuses/show': {'limit': 450,\n",
       "   'remaining': 450,\n",
       "   'reset': 1531432268},\n",
       "  '/drafts/statuses/create': {'limit': 450,\n",
       "   'remaining': 450,\n",
       "   'reset': 1531432268}},\n",
       " 'direct_messages': {'/direct_messages/sent': {'limit': 300,\n",
       "   'remaining': 300,\n",
       "   'reset': 1531432268},\n",
       "  '/direct_messages/broadcasts/list': {'limit': 60,\n",
       "   'remaining': 60,\n",
       "   'reset': 1531432268},\n",
       "  '/direct_messages/subscribers/lists/members/show': {'limit': 1000,\n",
       "   'remaining': 1000,\n",
       "   'reset': 1531432268},\n",
       "  '/direct_messages/mark_read': {'limit': 1000,\n",
       "   'remaining': 1000,\n",
       "   'reset': 1531432268},\n",
       "  '/direct_messages/subscribers/ids': {'limit': 180,\n",
       "   'remaining': 180,\n",
       "   'reset': 1531432268},\n",
       "  '/direct_messages/sent_and_received': {'limit': 300,\n",
       "   'remaining': 300,\n",
       "   'reset': 1531432268},\n",
       "  '/direct_messages/broadcasts/statuses/list': {'limit': 60,\n",
       "   'remaining': 60,\n",
       "   'reset': 1531432268},\n",
       "  '/direct_messages': {'limit': 300, 'remaining': 300, 'reset': 1531432268},\n",
       "  '/direct_messages/subscribers/lists/members/ids': {'limit': 180,\n",
       "   'remaining': 180,\n",
       "   'reset': 1531432268},\n",
       "  '/direct_messages/subscribers/show': {'limit': 180,\n",
       "   'remaining': 180,\n",
       "   'reset': 1531432268},\n",
       "  '/direct_messages/broadcasts/show': {'limit': 60,\n",
       "   'remaining': 60,\n",
       "   'reset': 1531432268},\n",
       "  '/direct_messages/broadcasts/statuses/show': {'limit': 60,\n",
       "   'remaining': 60,\n",
       "   'reset': 1531432268},\n",
       "  '/direct_messages/subscribers/lists/list': {'limit': 180,\n",
       "   'remaining': 180,\n",
       "   'reset': 1531432268},\n",
       "  '/direct_messages/show': {'limit': 300,\n",
       "   'remaining': 300,\n",
       "   'reset': 1531432268},\n",
       "  '/direct_messages/events/list': {'limit': 15,\n",
       "   'remaining': 15,\n",
       "   'reset': 1531432268},\n",
       "  '/direct_messages/subscribers/lists/show': {'limit': 180,\n",
       "   'remaining': 180,\n",
       "   'reset': 1531432268},\n",
       "  '/direct_messages/events/show': {'limit': 15,\n",
       "   'remaining': 15,\n",
       "   'reset': 1531432268}},\n",
       " 'media': {'/media/upload': {'limit': 500,\n",
       "   'remaining': 500,\n",
       "   'reset': 1531432268}},\n",
       " 'traffic': {'/traffic/map': {'limit': 15,\n",
       "   'remaining': 15,\n",
       "   'reset': 1531432268}},\n",
       " 'account_activity': {'/account_activity/all/webhooks': {'limit': 15,\n",
       "   'remaining': 15,\n",
       "   'reset': 1531432268},\n",
       "  '/account_activity/all/:instance_name/subscriptions': {'limit': 15,\n",
       "   'remaining': 15,\n",
       "   'reset': 1531432268},\n",
       "  '/account_activity/direct_messages/webhooks': {'limit': 15,\n",
       "   'remaining': 15,\n",
       "   'reset': 1531432268},\n",
       "  '/account_activity/webhooks/:id/subscriptions/direct_messages/list': {'limit': 15,\n",
       "   'remaining': 15,\n",
       "   'reset': 1531432268},\n",
       "  '/account_activity/webhooks/:id/subscriptions/all': {'limit': 500,\n",
       "   'remaining': 500,\n",
       "   'reset': 1531432268},\n",
       "  '/account_activity/direct_messages/:instance_name/webhooks': {'limit': 15,\n",
       "   'remaining': 15,\n",
       "   'reset': 1531432268},\n",
       "  '/account_activity/webhooks/:id/subscriptions/all/list': {'limit': 15,\n",
       "   'remaining': 15,\n",
       "   'reset': 1531432268},\n",
       "  '/account_activity/webhooks/:id/subscriptions/direct_messages': {'limit': 500,\n",
       "   'remaining': 500,\n",
       "   'reset': 1531432268},\n",
       "  '/account_activity/webhooks': {'limit': 15,\n",
       "   'remaining': 15,\n",
       "   'reset': 1531432268},\n",
       "  '/account_activity/direct_messages/:instance_name/subscriptions': {'limit': 15,\n",
       "   'remaining': 15,\n",
       "   'reset': 1531432268},\n",
       "  '/account_activity/webhooks/:id/subscriptions': {'limit': 500,\n",
       "   'remaining': 500,\n",
       "   'reset': 1531432268},\n",
       "  '/account_activity/all/:instance_name/webhooks': {'limit': 15,\n",
       "   'remaining': 15,\n",
       "   'reset': 1531432268}},\n",
       " 'account': {'/account/login_verification_enrollment': {'limit': 15,\n",
       "   'remaining': 15,\n",
       "   'reset': 1531432268},\n",
       "  '/account/update_profile': {'limit': 15,\n",
       "   'remaining': 15,\n",
       "   'reset': 1531432268},\n",
       "  '/account/verify_credentials': {'limit': 75,\n",
       "   'remaining': 75,\n",
       "   'reset': 1531432268},\n",
       "  '/account/settings': {'limit': 15, 'remaining': 15, 'reset': 1531432268}},\n",
       " 'safety': {'/safety/detection_feedback': {'limit': 1000,\n",
       "   'remaining': 1000,\n",
       "   'reset': 1531432268}},\n",
       " 'favorites': {'/favorites/list': {'limit': 75,\n",
       "   'remaining': 75,\n",
       "   'reset': 1531432268}},\n",
       " 'device': {'/device/token': {'limit': 15,\n",
       "   'remaining': 15,\n",
       "   'reset': 1531432268}},\n",
       " 'tweets': {'/tweets/search/:product/:label': {'limit': 1800,\n",
       "   'remaining': 1800,\n",
       "   'reset': 1531432268},\n",
       "  '/tweets/search/:product/:instance/counts': {'limit': 900,\n",
       "   'remaining': 900,\n",
       "   'reset': 1531432268}},\n",
       " 'saved_searches': {'/saved_searches/destroy/:id': {'limit': 15,\n",
       "   'remaining': 15,\n",
       "   'reset': 1531432268},\n",
       "  '/saved_searches/show/:id': {'limit': 15,\n",
       "   'remaining': 15,\n",
       "   'reset': 1531432268},\n",
       "  '/saved_searches/list': {'limit': 15, 'remaining': 15, 'reset': 1531432268}},\n",
       " 'search': {'/search/tweets': {'limit': 180,\n",
       "   'remaining': 180,\n",
       "   'reset': 1531432268}},\n",
       " 'trends': {'/trends/closest': {'limit': 75,\n",
       "   'remaining': 75,\n",
       "   'reset': 1531432268},\n",
       "  '/trends/available': {'limit': 75, 'remaining': 75, 'reset': 1531432268},\n",
       "  '/trends/place': {'limit': 75, 'remaining': 75, 'reset': 1531432268}},\n",
       " 'live_pipeline': {'/live_pipeline/events': {'limit': 180,\n",
       "   'remaining': 180,\n",
       "   'reset': 1531432268}}}"
      ]
     },
     "execution_count": 13,
     "metadata": {},
     "output_type": "execute_result"
    }
   ],
   "source": [
    "#This is a JSON objects and is stored in the variable rate_limits as a dictionary.\n",
    "rate_limits"
   ]
  },
  {
   "cell_type": "markdown",
   "metadata": {},
   "source": [
    "#### Send direct message to your followers. You cannot send messages to users who are not following you."
   ]
  },
  {
   "cell_type": "code",
   "execution_count": 32,
   "metadata": {},
   "outputs": [],
   "source": [
    "for follower in tweepy.Cursor(api.followers).items():\n",
    "    api.send_direct_message(follower.screen_name, text = \"Hello \"+ follower.name +\", I hope you are having a good day.\")"
   ]
  },
  {
   "cell_type": "markdown",
   "metadata": {},
   "source": [
    "#### Like some tweets from your timeline."
   ]
  },
  {
   "cell_type": "code",
   "execution_count": 23,
   "metadata": {},
   "outputs": [],
   "source": [
    "'''\n",
    "There seems to be no way to unlike the tweet(s). You may have to manually unlike them, in case the need arises.\n",
    "'''\n",
    "for tweet in tweepy.Cursor(api.home_timeline).items(1):\n",
    "    tweet.favorite()"
   ]
  },
  {
   "cell_type": "markdown",
   "metadata": {},
   "source": [
    "#### Save the hashtag texts of a given number of tweets in a list. Print out only the unique ones."
   ]
  },
  {
   "cell_type": "code",
   "execution_count": 72,
   "metadata": {},
   "outputs": [],
   "source": [
    "hashtags = []\n",
    "for tweet in tweepy.Cursor(api.home_timeline).items(50):\n",
    "    hashtags += [el['text'] for el in [dictionary for dictionary in tweet.entities['hashtags']]]\n",
    "unique_hashtags = set(hashtags)"
   ]
  },
  {
   "cell_type": "code",
   "execution_count": 75,
   "metadata": {},
   "outputs": [
    {
     "data": {
      "text/plain": [
       "{'1983WorldCup',\n",
       " 'Adolescence',\n",
       " 'CALLFORACTION',\n",
       " 'ChampionsTrophy',\n",
       " 'DBS',\n",
       " 'HCT2018',\n",
       " 'HELP',\n",
       " 'Hashim',\n",
       " 'Hindu',\n",
       " 'HumFitToIndiaFit',\n",
       " 'HumFitTohIndiaFit',\n",
       " 'INDvPAK',\n",
       " 'KabaddiMasters',\n",
       " 'KitUpChallenge',\n",
       " 'NewDelhi',\n",
       " 'RDBurman',\n",
       " 'RanbirKapoor',\n",
       " 'Sanju',\n",
       " 'SparkAPurpose',\n",
       " 'SportPlayingIndia',\n",
       " 'ThanksMom',\n",
       " 'myfirstTweet'}"
      ]
     },
     "execution_count": 75,
     "metadata": {},
     "output_type": "execute_result"
    }
   ],
   "source": [
    "unique_hashtags"
   ]
  },
  {
   "cell_type": "markdown",
   "metadata": {},
   "source": [
    "#### follow people based on keywords"
   ]
  },
  {
   "cell_type": "code",
   "execution_count": 26,
   "metadata": {},
   "outputs": [
    {
     "name": "stdout",
     "output_type": "stream",
     "text": [
      "#follow #f4f #followme #TFLers #followforfollow #follow4follow #teamfollowback #followher #followbackteam… https://t.co/yUsG76K1Gm\n",
      "RT @KobirMl: #follow #f4f #followme #TFLers #followforfollow #follow4follow #teamfollowback #followher #followbackteam #followhim #followal…\n",
      "#follow #f4f #followme #TFLers #followforfollow #follow4follow #teamfollowback #followher #followbackteam… https://t.co/KLcnDHX5sl\n",
      "RT @KobirMl: #follow #f4f #followme #TFLers #followforfollow #follow4follow #teamfollowback #followher #followbackteam #followhim #followal…\n",
      "#follow #f4f #followme #TFLers #followforfollow #follow4follow #teamfollowback #followher #followbackteam… https://t.co/wCcLHBSvp3\n",
      "https://t.co/qCY17gJDtZ #teamfollow #TF #teamfollowback #INST #followme #FollowFriday #TAF #GFB #MustFollow… https://t.co/wTVbToYTjd\n",
      "❤\n",
      "\n",
      "#follow #f4f #followme #TFLers #followforfollow #follow4follow #teamfollowback #followher #followbackteam… https://t.co/oEcsdkOWw3\n",
      "#openfollow #teamfollowback #TFB  #followme #ifollowback #sougofollow #90sBabyFollowTrain #Autofollow #instantfollow #F4F #Follow4Follow 2\n",
      "#openfollow #teamfollowback #TFB #ff #followme #ifollowback #sougofollow #90sBabyFollowTrain #Autofollow #instantfollow #F4F #Follow4Follow\n",
      "Photoshoot\n",
      "Photographer-@mukesh_piyush\n",
      "#follow #f4f #followme #TFLers #followforfollow #follow4follow… https://t.co/D3qrJKmNca\n"
     ]
    },
    {
     "data": {
      "text/plain": [
       "['KobirMl',\n",
       " 'LeadFromBack',\n",
       " 'KobirMl',\n",
       " 'love4ulot',\n",
       " 'KobirMl',\n",
       " 'MargotOcean',\n",
       " 'MNKMusicizer',\n",
       " 'BigLucci_',\n",
       " 'BigLucci_',\n",
       " 'saumyatrips']"
      ]
     },
     "execution_count": 26,
     "metadata": {},
     "output_type": "execute_result"
    }
   ],
   "source": [
    "search_text = \"Follow4follow #f4f #follow4follow #follow4Follow #followme\"\n",
    "friends = []\n",
    "for tweet in tweepy.Cursor(api.search, search_text).items(10):\n",
    "    print(tweet.text)\n",
    "    tweet.author.follow()\n",
    "    friends.append(tweet.author.screen_name)\n",
    "friends"
   ]
  },
  {
   "cell_type": "markdown",
   "metadata": {},
   "source": [
    "#### to unfollow the ones in the list of friends"
   ]
  },
  {
   "cell_type": "code",
   "execution_count": 27,
   "metadata": {},
   "outputs": [],
   "source": [
    "for screen_name in friends:\n",
    "    api.destroy_friendship(screen_name)"
   ]
  },
  {
   "cell_type": "markdown",
   "metadata": {},
   "source": [
    "#### Using Streaming API to filter data and understand its usage."
   ]
  },
  {
   "cell_type": "code",
   "execution_count": 2,
   "metadata": {},
   "outputs": [],
   "source": [
    "# class MyStreamListener(tweepy.StreamListener)\n",
    "#     def on_status(self, status):\n",
    "#         print(status.text)\n",
    "# myStreamListener = MyStreamListener()\n",
    "# myStream = tweepy.Stream(auth = api.auth, listener= myStreamListener)\n"
   ]
  },
  {
   "cell_type": "markdown",
   "metadata": {},
   "source": [
    "[A blog](http://adilmoujahid.com/posts/2014/07/twitter-analytics/)\n",
    "\n"
   ]
  },
  {
   "cell_type": "code",
   "execution_count": 6,
   "metadata": {},
   "outputs": [
    {
     "ename": "TweepError",
     "evalue": "Failed to send request: HTTPSConnectionPool(host='api.twitter.com', port=443): Max retries exceeded with url: /1.1/statuses/retweet/1013717452268584961.json (Caused by NewConnectionError('<urllib3.connection.VerifiedHTTPSConnection object at 0x1044762b0>: Failed to establish a new connection: [Errno 8] nodename nor servname provided, or not known',))",
     "output_type": "error",
     "traceback": [
      "\u001b[0;31m---------------------------------------------------------------------------\u001b[0m",
      "\u001b[0;31mgaierror\u001b[0m                                  Traceback (most recent call last)",
      "\u001b[0;32m/anaconda3/lib/python3.6/site-packages/urllib3/connection.py\u001b[0m in \u001b[0;36m_new_conn\u001b[0;34m(self)\u001b[0m\n\u001b[1;32m    140\u001b[0m             conn = connection.create_connection(\n\u001b[0;32m--> 141\u001b[0;31m                 (self.host, self.port), self.timeout, **extra_kw)\n\u001b[0m\u001b[1;32m    142\u001b[0m \u001b[0;34m\u001b[0m\u001b[0m\n",
      "\u001b[0;32m/anaconda3/lib/python3.6/site-packages/urllib3/util/connection.py\u001b[0m in \u001b[0;36mcreate_connection\u001b[0;34m(address, timeout, source_address, socket_options)\u001b[0m\n\u001b[1;32m     59\u001b[0m \u001b[0;34m\u001b[0m\u001b[0m\n\u001b[0;32m---> 60\u001b[0;31m     \u001b[0;32mfor\u001b[0m \u001b[0mres\u001b[0m \u001b[0;32min\u001b[0m \u001b[0msocket\u001b[0m\u001b[0;34m.\u001b[0m\u001b[0mgetaddrinfo\u001b[0m\u001b[0;34m(\u001b[0m\u001b[0mhost\u001b[0m\u001b[0;34m,\u001b[0m \u001b[0mport\u001b[0m\u001b[0;34m,\u001b[0m \u001b[0mfamily\u001b[0m\u001b[0;34m,\u001b[0m \u001b[0msocket\u001b[0m\u001b[0;34m.\u001b[0m\u001b[0mSOCK_STREAM\u001b[0m\u001b[0;34m)\u001b[0m\u001b[0;34m:\u001b[0m\u001b[0;34m\u001b[0m\u001b[0m\n\u001b[0m\u001b[1;32m     61\u001b[0m         \u001b[0maf\u001b[0m\u001b[0;34m,\u001b[0m \u001b[0msocktype\u001b[0m\u001b[0;34m,\u001b[0m \u001b[0mproto\u001b[0m\u001b[0;34m,\u001b[0m \u001b[0mcanonname\u001b[0m\u001b[0;34m,\u001b[0m \u001b[0msa\u001b[0m \u001b[0;34m=\u001b[0m \u001b[0mres\u001b[0m\u001b[0;34m\u001b[0m\u001b[0m\n",
      "\u001b[0;32m/anaconda3/lib/python3.6/socket.py\u001b[0m in \u001b[0;36mgetaddrinfo\u001b[0;34m(host, port, family, type, proto, flags)\u001b[0m\n\u001b[1;32m    744\u001b[0m     \u001b[0maddrlist\u001b[0m \u001b[0;34m=\u001b[0m \u001b[0;34m[\u001b[0m\u001b[0;34m]\u001b[0m\u001b[0;34m\u001b[0m\u001b[0m\n\u001b[0;32m--> 745\u001b[0;31m     \u001b[0;32mfor\u001b[0m \u001b[0mres\u001b[0m \u001b[0;32min\u001b[0m \u001b[0m_socket\u001b[0m\u001b[0;34m.\u001b[0m\u001b[0mgetaddrinfo\u001b[0m\u001b[0;34m(\u001b[0m\u001b[0mhost\u001b[0m\u001b[0;34m,\u001b[0m \u001b[0mport\u001b[0m\u001b[0;34m,\u001b[0m \u001b[0mfamily\u001b[0m\u001b[0;34m,\u001b[0m \u001b[0mtype\u001b[0m\u001b[0;34m,\u001b[0m \u001b[0mproto\u001b[0m\u001b[0;34m,\u001b[0m \u001b[0mflags\u001b[0m\u001b[0;34m)\u001b[0m\u001b[0;34m:\u001b[0m\u001b[0;34m\u001b[0m\u001b[0m\n\u001b[0m\u001b[1;32m    746\u001b[0m         \u001b[0maf\u001b[0m\u001b[0;34m,\u001b[0m \u001b[0msocktype\u001b[0m\u001b[0;34m,\u001b[0m \u001b[0mproto\u001b[0m\u001b[0;34m,\u001b[0m \u001b[0mcanonname\u001b[0m\u001b[0;34m,\u001b[0m \u001b[0msa\u001b[0m \u001b[0;34m=\u001b[0m \u001b[0mres\u001b[0m\u001b[0;34m\u001b[0m\u001b[0m\n",
      "\u001b[0;31mgaierror\u001b[0m: [Errno 8] nodename nor servname provided, or not known",
      "\nDuring handling of the above exception, another exception occurred:\n",
      "\u001b[0;31mNewConnectionError\u001b[0m                        Traceback (most recent call last)",
      "\u001b[0;32m/anaconda3/lib/python3.6/site-packages/urllib3/connectionpool.py\u001b[0m in \u001b[0;36murlopen\u001b[0;34m(self, method, url, body, headers, retries, redirect, assert_same_host, timeout, pool_timeout, release_conn, chunked, body_pos, **response_kw)\u001b[0m\n\u001b[1;32m    600\u001b[0m                                                   \u001b[0mbody\u001b[0m\u001b[0;34m=\u001b[0m\u001b[0mbody\u001b[0m\u001b[0;34m,\u001b[0m \u001b[0mheaders\u001b[0m\u001b[0;34m=\u001b[0m\u001b[0mheaders\u001b[0m\u001b[0;34m,\u001b[0m\u001b[0;34m\u001b[0m\u001b[0m\n\u001b[0;32m--> 601\u001b[0;31m                                                   chunked=chunked)\n\u001b[0m\u001b[1;32m    602\u001b[0m \u001b[0;34m\u001b[0m\u001b[0m\n",
      "\u001b[0;32m/anaconda3/lib/python3.6/site-packages/urllib3/connectionpool.py\u001b[0m in \u001b[0;36m_make_request\u001b[0;34m(self, conn, method, url, timeout, chunked, **httplib_request_kw)\u001b[0m\n\u001b[1;32m    345\u001b[0m         \u001b[0;32mtry\u001b[0m\u001b[0;34m:\u001b[0m\u001b[0;34m\u001b[0m\u001b[0m\n\u001b[0;32m--> 346\u001b[0;31m             \u001b[0mself\u001b[0m\u001b[0;34m.\u001b[0m\u001b[0m_validate_conn\u001b[0m\u001b[0;34m(\u001b[0m\u001b[0mconn\u001b[0m\u001b[0;34m)\u001b[0m\u001b[0;34m\u001b[0m\u001b[0m\n\u001b[0m\u001b[1;32m    347\u001b[0m         \u001b[0;32mexcept\u001b[0m \u001b[0;34m(\u001b[0m\u001b[0mSocketTimeout\u001b[0m\u001b[0;34m,\u001b[0m \u001b[0mBaseSSLError\u001b[0m\u001b[0;34m)\u001b[0m \u001b[0;32mas\u001b[0m \u001b[0me\u001b[0m\u001b[0;34m:\u001b[0m\u001b[0;34m\u001b[0m\u001b[0m\n",
      "\u001b[0;32m/anaconda3/lib/python3.6/site-packages/urllib3/connectionpool.py\u001b[0m in \u001b[0;36m_validate_conn\u001b[0;34m(self, conn)\u001b[0m\n\u001b[1;32m    849\u001b[0m         \u001b[0;32mif\u001b[0m \u001b[0;32mnot\u001b[0m \u001b[0mgetattr\u001b[0m\u001b[0;34m(\u001b[0m\u001b[0mconn\u001b[0m\u001b[0;34m,\u001b[0m \u001b[0;34m'sock'\u001b[0m\u001b[0;34m,\u001b[0m \u001b[0;32mNone\u001b[0m\u001b[0;34m)\u001b[0m\u001b[0;34m:\u001b[0m  \u001b[0;31m# AppEngine might not have  `.sock`\u001b[0m\u001b[0;34m\u001b[0m\u001b[0m\n\u001b[0;32m--> 850\u001b[0;31m             \u001b[0mconn\u001b[0m\u001b[0;34m.\u001b[0m\u001b[0mconnect\u001b[0m\u001b[0;34m(\u001b[0m\u001b[0;34m)\u001b[0m\u001b[0;34m\u001b[0m\u001b[0m\n\u001b[0m\u001b[1;32m    851\u001b[0m \u001b[0;34m\u001b[0m\u001b[0m\n",
      "\u001b[0;32m/anaconda3/lib/python3.6/site-packages/urllib3/connection.py\u001b[0m in \u001b[0;36mconnect\u001b[0;34m(self)\u001b[0m\n\u001b[1;32m    283\u001b[0m         \u001b[0;31m# Add certificate verification\u001b[0m\u001b[0;34m\u001b[0m\u001b[0;34m\u001b[0m\u001b[0m\n\u001b[0;32m--> 284\u001b[0;31m         \u001b[0mconn\u001b[0m \u001b[0;34m=\u001b[0m \u001b[0mself\u001b[0m\u001b[0;34m.\u001b[0m\u001b[0m_new_conn\u001b[0m\u001b[0;34m(\u001b[0m\u001b[0;34m)\u001b[0m\u001b[0;34m\u001b[0m\u001b[0m\n\u001b[0m\u001b[1;32m    285\u001b[0m \u001b[0;34m\u001b[0m\u001b[0m\n",
      "\u001b[0;32m/anaconda3/lib/python3.6/site-packages/urllib3/connection.py\u001b[0m in \u001b[0;36m_new_conn\u001b[0;34m(self)\u001b[0m\n\u001b[1;32m    149\u001b[0m             raise NewConnectionError(\n\u001b[0;32m--> 150\u001b[0;31m                 self, \"Failed to establish a new connection: %s\" % e)\n\u001b[0m\u001b[1;32m    151\u001b[0m \u001b[0;34m\u001b[0m\u001b[0m\n",
      "\u001b[0;31mNewConnectionError\u001b[0m: <urllib3.connection.VerifiedHTTPSConnection object at 0x1044762b0>: Failed to establish a new connection: [Errno 8] nodename nor servname provided, or not known",
      "\nDuring handling of the above exception, another exception occurred:\n",
      "\u001b[0;31mMaxRetryError\u001b[0m                             Traceback (most recent call last)",
      "\u001b[0;32m/anaconda3/lib/python3.6/site-packages/requests/adapters.py\u001b[0m in \u001b[0;36msend\u001b[0;34m(self, request, stream, timeout, verify, cert, proxies)\u001b[0m\n\u001b[1;32m    439\u001b[0m                     \u001b[0mretries\u001b[0m\u001b[0;34m=\u001b[0m\u001b[0mself\u001b[0m\u001b[0;34m.\u001b[0m\u001b[0mmax_retries\u001b[0m\u001b[0;34m,\u001b[0m\u001b[0;34m\u001b[0m\u001b[0m\n\u001b[0;32m--> 440\u001b[0;31m                     \u001b[0mtimeout\u001b[0m\u001b[0;34m=\u001b[0m\u001b[0mtimeout\u001b[0m\u001b[0;34m\u001b[0m\u001b[0m\n\u001b[0m\u001b[1;32m    441\u001b[0m                 )\n",
      "\u001b[0;32m/anaconda3/lib/python3.6/site-packages/urllib3/connectionpool.py\u001b[0m in \u001b[0;36murlopen\u001b[0;34m(self, method, url, body, headers, retries, redirect, assert_same_host, timeout, pool_timeout, release_conn, chunked, body_pos, **response_kw)\u001b[0m\n\u001b[1;32m    638\u001b[0m             retries = retries.increment(method, url, error=e, _pool=self,\n\u001b[0;32m--> 639\u001b[0;31m                                         _stacktrace=sys.exc_info()[2])\n\u001b[0m\u001b[1;32m    640\u001b[0m             \u001b[0mretries\u001b[0m\u001b[0;34m.\u001b[0m\u001b[0msleep\u001b[0m\u001b[0;34m(\u001b[0m\u001b[0;34m)\u001b[0m\u001b[0;34m\u001b[0m\u001b[0m\n",
      "\u001b[0;32m/anaconda3/lib/python3.6/site-packages/urllib3/util/retry.py\u001b[0m in \u001b[0;36mincrement\u001b[0;34m(self, method, url, response, error, _pool, _stacktrace)\u001b[0m\n\u001b[1;32m    387\u001b[0m         \u001b[0;32mif\u001b[0m \u001b[0mnew_retry\u001b[0m\u001b[0;34m.\u001b[0m\u001b[0mis_exhausted\u001b[0m\u001b[0;34m(\u001b[0m\u001b[0;34m)\u001b[0m\u001b[0;34m:\u001b[0m\u001b[0;34m\u001b[0m\u001b[0m\n\u001b[0;32m--> 388\u001b[0;31m             \u001b[0;32mraise\u001b[0m \u001b[0mMaxRetryError\u001b[0m\u001b[0;34m(\u001b[0m\u001b[0m_pool\u001b[0m\u001b[0;34m,\u001b[0m \u001b[0murl\u001b[0m\u001b[0;34m,\u001b[0m \u001b[0merror\u001b[0m \u001b[0;32mor\u001b[0m \u001b[0mResponseError\u001b[0m\u001b[0;34m(\u001b[0m\u001b[0mcause\u001b[0m\u001b[0;34m)\u001b[0m\u001b[0;34m)\u001b[0m\u001b[0;34m\u001b[0m\u001b[0m\n\u001b[0m\u001b[1;32m    389\u001b[0m \u001b[0;34m\u001b[0m\u001b[0m\n",
      "\u001b[0;31mMaxRetryError\u001b[0m: HTTPSConnectionPool(host='api.twitter.com', port=443): Max retries exceeded with url: /1.1/statuses/retweet/1013717452268584961.json (Caused by NewConnectionError('<urllib3.connection.VerifiedHTTPSConnection object at 0x1044762b0>: Failed to establish a new connection: [Errno 8] nodename nor servname provided, or not known',))",
      "\nDuring handling of the above exception, another exception occurred:\n",
      "\u001b[0;31mConnectionError\u001b[0m                           Traceback (most recent call last)",
      "\u001b[0;32m/anaconda3/lib/python3.6/site-packages/tweepy/binder.py\u001b[0m in \u001b[0;36mexecute\u001b[0;34m(self)\u001b[0m\n\u001b[1;32m    189\u001b[0m                                                 \u001b[0mauth\u001b[0m\u001b[0;34m=\u001b[0m\u001b[0mauth\u001b[0m\u001b[0;34m,\u001b[0m\u001b[0;34m\u001b[0m\u001b[0m\n\u001b[0;32m--> 190\u001b[0;31m                                                 proxies=self.api.proxy)\n\u001b[0m\u001b[1;32m    191\u001b[0m                 \u001b[0;32mexcept\u001b[0m \u001b[0mException\u001b[0m \u001b[0;32mas\u001b[0m \u001b[0me\u001b[0m\u001b[0;34m:\u001b[0m\u001b[0;34m\u001b[0m\u001b[0m\n",
      "\u001b[0;32m/anaconda3/lib/python3.6/site-packages/requests/sessions.py\u001b[0m in \u001b[0;36mrequest\u001b[0;34m(self, method, url, params, data, headers, cookies, files, auth, timeout, allow_redirects, proxies, hooks, stream, verify, cert, json)\u001b[0m\n\u001b[1;32m    507\u001b[0m         \u001b[0msend_kwargs\u001b[0m\u001b[0;34m.\u001b[0m\u001b[0mupdate\u001b[0m\u001b[0;34m(\u001b[0m\u001b[0msettings\u001b[0m\u001b[0;34m)\u001b[0m\u001b[0;34m\u001b[0m\u001b[0m\n\u001b[0;32m--> 508\u001b[0;31m         \u001b[0mresp\u001b[0m \u001b[0;34m=\u001b[0m \u001b[0mself\u001b[0m\u001b[0;34m.\u001b[0m\u001b[0msend\u001b[0m\u001b[0;34m(\u001b[0m\u001b[0mprep\u001b[0m\u001b[0;34m,\u001b[0m \u001b[0;34m**\u001b[0m\u001b[0msend_kwargs\u001b[0m\u001b[0;34m)\u001b[0m\u001b[0;34m\u001b[0m\u001b[0m\n\u001b[0m\u001b[1;32m    509\u001b[0m \u001b[0;34m\u001b[0m\u001b[0m\n",
      "\u001b[0;32m/anaconda3/lib/python3.6/site-packages/requests/sessions.py\u001b[0m in \u001b[0;36msend\u001b[0;34m(self, request, **kwargs)\u001b[0m\n\u001b[1;32m    617\u001b[0m         \u001b[0;31m# Send the request\u001b[0m\u001b[0;34m\u001b[0m\u001b[0;34m\u001b[0m\u001b[0m\n\u001b[0;32m--> 618\u001b[0;31m         \u001b[0mr\u001b[0m \u001b[0;34m=\u001b[0m \u001b[0madapter\u001b[0m\u001b[0;34m.\u001b[0m\u001b[0msend\u001b[0m\u001b[0;34m(\u001b[0m\u001b[0mrequest\u001b[0m\u001b[0;34m,\u001b[0m \u001b[0;34m**\u001b[0m\u001b[0mkwargs\u001b[0m\u001b[0;34m)\u001b[0m\u001b[0;34m\u001b[0m\u001b[0m\n\u001b[0m\u001b[1;32m    619\u001b[0m \u001b[0;34m\u001b[0m\u001b[0m\n",
      "\u001b[0;32m/anaconda3/lib/python3.6/site-packages/requests/adapters.py\u001b[0m in \u001b[0;36msend\u001b[0;34m(self, request, stream, timeout, verify, cert, proxies)\u001b[0m\n\u001b[1;32m    507\u001b[0m \u001b[0;34m\u001b[0m\u001b[0m\n\u001b[0;32m--> 508\u001b[0;31m             \u001b[0;32mraise\u001b[0m \u001b[0mConnectionError\u001b[0m\u001b[0;34m(\u001b[0m\u001b[0me\u001b[0m\u001b[0;34m,\u001b[0m \u001b[0mrequest\u001b[0m\u001b[0;34m=\u001b[0m\u001b[0mrequest\u001b[0m\u001b[0;34m)\u001b[0m\u001b[0;34m\u001b[0m\u001b[0m\n\u001b[0m\u001b[1;32m    509\u001b[0m \u001b[0;34m\u001b[0m\u001b[0m\n",
      "\u001b[0;31mConnectionError\u001b[0m: HTTPSConnectionPool(host='api.twitter.com', port=443): Max retries exceeded with url: /1.1/statuses/retweet/1013717452268584961.json (Caused by NewConnectionError('<urllib3.connection.VerifiedHTTPSConnection object at 0x1044762b0>: Failed to establish a new connection: [Errno 8] nodename nor servname provided, or not known',))",
      "\nDuring handling of the above exception, another exception occurred:\n",
      "\u001b[0;31mTweepError\u001b[0m                                Traceback (most recent call last)",
      "\u001b[0;32m<ipython-input-6-024138321457>\u001b[0m in \u001b[0;36m<module>\u001b[0;34m()\u001b[0m\n\u001b[0;32m----> 1\u001b[0;31m \u001b[0mapi\u001b[0m\u001b[0;34m.\u001b[0m\u001b[0mretweet\u001b[0m\u001b[0;34m(\u001b[0m\u001b[0;36m1013717452268584961\u001b[0m\u001b[0;34m)\u001b[0m\u001b[0;34m\u001b[0m\u001b[0m\n\u001b[0m",
      "\u001b[0;32m/anaconda3/lib/python3.6/site-packages/tweepy/binder.py\u001b[0m in \u001b[0;36m_call\u001b[0;34m(*args, **kwargs)\u001b[0m\n\u001b[1;32m    248\u001b[0m             \u001b[0;32mreturn\u001b[0m \u001b[0mmethod\u001b[0m\u001b[0;34m\u001b[0m\u001b[0m\n\u001b[1;32m    249\u001b[0m         \u001b[0;32melse\u001b[0m\u001b[0;34m:\u001b[0m\u001b[0;34m\u001b[0m\u001b[0m\n\u001b[0;32m--> 250\u001b[0;31m             \u001b[0;32mreturn\u001b[0m \u001b[0mmethod\u001b[0m\u001b[0;34m.\u001b[0m\u001b[0mexecute\u001b[0m\u001b[0;34m(\u001b[0m\u001b[0;34m)\u001b[0m\u001b[0;34m\u001b[0m\u001b[0m\n\u001b[0m\u001b[1;32m    251\u001b[0m \u001b[0;34m\u001b[0m\u001b[0m\n\u001b[1;32m    252\u001b[0m     \u001b[0;31m# Set pagination mode\u001b[0m\u001b[0;34m\u001b[0m\u001b[0;34m\u001b[0m\u001b[0m\n",
      "\u001b[0;32m/anaconda3/lib/python3.6/site-packages/tweepy/binder.py\u001b[0m in \u001b[0;36mexecute\u001b[0;34m(self)\u001b[0m\n\u001b[1;32m    190\u001b[0m                                                 proxies=self.api.proxy)\n\u001b[1;32m    191\u001b[0m                 \u001b[0;32mexcept\u001b[0m \u001b[0mException\u001b[0m \u001b[0;32mas\u001b[0m \u001b[0me\u001b[0m\u001b[0;34m:\u001b[0m\u001b[0;34m\u001b[0m\u001b[0m\n\u001b[0;32m--> 192\u001b[0;31m                     \u001b[0msix\u001b[0m\u001b[0;34m.\u001b[0m\u001b[0mreraise\u001b[0m\u001b[0;34m(\u001b[0m\u001b[0mTweepError\u001b[0m\u001b[0;34m,\u001b[0m \u001b[0mTweepError\u001b[0m\u001b[0;34m(\u001b[0m\u001b[0;34m'Failed to send request: %s'\u001b[0m \u001b[0;34m%\u001b[0m \u001b[0me\u001b[0m\u001b[0;34m)\u001b[0m\u001b[0;34m,\u001b[0m \u001b[0msys\u001b[0m\u001b[0;34m.\u001b[0m\u001b[0mexc_info\u001b[0m\u001b[0;34m(\u001b[0m\u001b[0;34m)\u001b[0m\u001b[0;34m[\u001b[0m\u001b[0;36m2\u001b[0m\u001b[0;34m]\u001b[0m\u001b[0;34m)\u001b[0m\u001b[0;34m\u001b[0m\u001b[0m\n\u001b[0m\u001b[1;32m    193\u001b[0m \u001b[0;34m\u001b[0m\u001b[0m\n\u001b[1;32m    194\u001b[0m                 \u001b[0mrem_calls\u001b[0m \u001b[0;34m=\u001b[0m \u001b[0mresp\u001b[0m\u001b[0;34m.\u001b[0m\u001b[0mheaders\u001b[0m\u001b[0;34m.\u001b[0m\u001b[0mget\u001b[0m\u001b[0;34m(\u001b[0m\u001b[0;34m'x-rate-limit-remaining'\u001b[0m\u001b[0;34m)\u001b[0m\u001b[0;34m\u001b[0m\u001b[0m\n",
      "\u001b[0;32m/anaconda3/lib/python3.6/site-packages/six.py\u001b[0m in \u001b[0;36mreraise\u001b[0;34m(tp, value, tb)\u001b[0m\n\u001b[1;32m    690\u001b[0m                 \u001b[0mvalue\u001b[0m \u001b[0;34m=\u001b[0m \u001b[0mtp\u001b[0m\u001b[0;34m(\u001b[0m\u001b[0;34m)\u001b[0m\u001b[0;34m\u001b[0m\u001b[0m\n\u001b[1;32m    691\u001b[0m             \u001b[0;32mif\u001b[0m \u001b[0mvalue\u001b[0m\u001b[0;34m.\u001b[0m\u001b[0m__traceback__\u001b[0m \u001b[0;32mis\u001b[0m \u001b[0;32mnot\u001b[0m \u001b[0mtb\u001b[0m\u001b[0;34m:\u001b[0m\u001b[0;34m\u001b[0m\u001b[0m\n\u001b[0;32m--> 692\u001b[0;31m                 \u001b[0;32mraise\u001b[0m \u001b[0mvalue\u001b[0m\u001b[0;34m.\u001b[0m\u001b[0mwith_traceback\u001b[0m\u001b[0;34m(\u001b[0m\u001b[0mtb\u001b[0m\u001b[0;34m)\u001b[0m\u001b[0;34m\u001b[0m\u001b[0m\n\u001b[0m\u001b[1;32m    693\u001b[0m             \u001b[0;32mraise\u001b[0m \u001b[0mvalue\u001b[0m\u001b[0;34m\u001b[0m\u001b[0m\n\u001b[1;32m    694\u001b[0m         \u001b[0;32mfinally\u001b[0m\u001b[0;34m:\u001b[0m\u001b[0;34m\u001b[0m\u001b[0m\n",
      "\u001b[0;32m/anaconda3/lib/python3.6/site-packages/tweepy/binder.py\u001b[0m in \u001b[0;36mexecute\u001b[0;34m(self)\u001b[0m\n\u001b[1;32m    188\u001b[0m                                                 \u001b[0mtimeout\u001b[0m\u001b[0;34m=\u001b[0m\u001b[0mself\u001b[0m\u001b[0;34m.\u001b[0m\u001b[0mapi\u001b[0m\u001b[0;34m.\u001b[0m\u001b[0mtimeout\u001b[0m\u001b[0;34m,\u001b[0m\u001b[0;34m\u001b[0m\u001b[0m\n\u001b[1;32m    189\u001b[0m                                                 \u001b[0mauth\u001b[0m\u001b[0;34m=\u001b[0m\u001b[0mauth\u001b[0m\u001b[0;34m,\u001b[0m\u001b[0;34m\u001b[0m\u001b[0m\n\u001b[0;32m--> 190\u001b[0;31m                                                 proxies=self.api.proxy)\n\u001b[0m\u001b[1;32m    191\u001b[0m                 \u001b[0;32mexcept\u001b[0m \u001b[0mException\u001b[0m \u001b[0;32mas\u001b[0m \u001b[0me\u001b[0m\u001b[0;34m:\u001b[0m\u001b[0;34m\u001b[0m\u001b[0m\n\u001b[1;32m    192\u001b[0m                     \u001b[0msix\u001b[0m\u001b[0;34m.\u001b[0m\u001b[0mreraise\u001b[0m\u001b[0;34m(\u001b[0m\u001b[0mTweepError\u001b[0m\u001b[0;34m,\u001b[0m \u001b[0mTweepError\u001b[0m\u001b[0;34m(\u001b[0m\u001b[0;34m'Failed to send request: %s'\u001b[0m \u001b[0;34m%\u001b[0m \u001b[0me\u001b[0m\u001b[0;34m)\u001b[0m\u001b[0;34m,\u001b[0m \u001b[0msys\u001b[0m\u001b[0;34m.\u001b[0m\u001b[0mexc_info\u001b[0m\u001b[0;34m(\u001b[0m\u001b[0;34m)\u001b[0m\u001b[0;34m[\u001b[0m\u001b[0;36m2\u001b[0m\u001b[0;34m]\u001b[0m\u001b[0;34m)\u001b[0m\u001b[0;34m\u001b[0m\u001b[0m\n",
      "\u001b[0;32m/anaconda3/lib/python3.6/site-packages/requests/sessions.py\u001b[0m in \u001b[0;36mrequest\u001b[0;34m(self, method, url, params, data, headers, cookies, files, auth, timeout, allow_redirects, proxies, hooks, stream, verify, cert, json)\u001b[0m\n\u001b[1;32m    506\u001b[0m         }\n\u001b[1;32m    507\u001b[0m         \u001b[0msend_kwargs\u001b[0m\u001b[0;34m.\u001b[0m\u001b[0mupdate\u001b[0m\u001b[0;34m(\u001b[0m\u001b[0msettings\u001b[0m\u001b[0;34m)\u001b[0m\u001b[0;34m\u001b[0m\u001b[0m\n\u001b[0;32m--> 508\u001b[0;31m         \u001b[0mresp\u001b[0m \u001b[0;34m=\u001b[0m \u001b[0mself\u001b[0m\u001b[0;34m.\u001b[0m\u001b[0msend\u001b[0m\u001b[0;34m(\u001b[0m\u001b[0mprep\u001b[0m\u001b[0;34m,\u001b[0m \u001b[0;34m**\u001b[0m\u001b[0msend_kwargs\u001b[0m\u001b[0;34m)\u001b[0m\u001b[0;34m\u001b[0m\u001b[0m\n\u001b[0m\u001b[1;32m    509\u001b[0m \u001b[0;34m\u001b[0m\u001b[0m\n\u001b[1;32m    510\u001b[0m         \u001b[0;32mreturn\u001b[0m \u001b[0mresp\u001b[0m\u001b[0;34m\u001b[0m\u001b[0m\n",
      "\u001b[0;32m/anaconda3/lib/python3.6/site-packages/requests/sessions.py\u001b[0m in \u001b[0;36msend\u001b[0;34m(self, request, **kwargs)\u001b[0m\n\u001b[1;32m    616\u001b[0m \u001b[0;34m\u001b[0m\u001b[0m\n\u001b[1;32m    617\u001b[0m         \u001b[0;31m# Send the request\u001b[0m\u001b[0;34m\u001b[0m\u001b[0;34m\u001b[0m\u001b[0m\n\u001b[0;32m--> 618\u001b[0;31m         \u001b[0mr\u001b[0m \u001b[0;34m=\u001b[0m \u001b[0madapter\u001b[0m\u001b[0;34m.\u001b[0m\u001b[0msend\u001b[0m\u001b[0;34m(\u001b[0m\u001b[0mrequest\u001b[0m\u001b[0;34m,\u001b[0m \u001b[0;34m**\u001b[0m\u001b[0mkwargs\u001b[0m\u001b[0;34m)\u001b[0m\u001b[0;34m\u001b[0m\u001b[0m\n\u001b[0m\u001b[1;32m    619\u001b[0m \u001b[0;34m\u001b[0m\u001b[0m\n\u001b[1;32m    620\u001b[0m         \u001b[0;31m# Total elapsed time of the request (approximately)\u001b[0m\u001b[0;34m\u001b[0m\u001b[0;34m\u001b[0m\u001b[0m\n",
      "\u001b[0;32m/anaconda3/lib/python3.6/site-packages/requests/adapters.py\u001b[0m in \u001b[0;36msend\u001b[0;34m(self, request, stream, timeout, verify, cert, proxies)\u001b[0m\n\u001b[1;32m    506\u001b[0m                 \u001b[0;32mraise\u001b[0m \u001b[0mSSLError\u001b[0m\u001b[0;34m(\u001b[0m\u001b[0me\u001b[0m\u001b[0;34m,\u001b[0m \u001b[0mrequest\u001b[0m\u001b[0;34m=\u001b[0m\u001b[0mrequest\u001b[0m\u001b[0;34m)\u001b[0m\u001b[0;34m\u001b[0m\u001b[0m\n\u001b[1;32m    507\u001b[0m \u001b[0;34m\u001b[0m\u001b[0m\n\u001b[0;32m--> 508\u001b[0;31m             \u001b[0;32mraise\u001b[0m \u001b[0mConnectionError\u001b[0m\u001b[0;34m(\u001b[0m\u001b[0me\u001b[0m\u001b[0;34m,\u001b[0m \u001b[0mrequest\u001b[0m\u001b[0;34m=\u001b[0m\u001b[0mrequest\u001b[0m\u001b[0;34m)\u001b[0m\u001b[0;34m\u001b[0m\u001b[0m\n\u001b[0m\u001b[1;32m    509\u001b[0m \u001b[0;34m\u001b[0m\u001b[0m\n\u001b[1;32m    510\u001b[0m         \u001b[0;32mexcept\u001b[0m \u001b[0mClosedPoolError\u001b[0m \u001b[0;32mas\u001b[0m \u001b[0me\u001b[0m\u001b[0;34m:\u001b[0m\u001b[0;34m\u001b[0m\u001b[0m\n",
      "\u001b[0;31mTweepError\u001b[0m: Failed to send request: HTTPSConnectionPool(host='api.twitter.com', port=443): Max retries exceeded with url: /1.1/statuses/retweet/1013717452268584961.json (Caused by NewConnectionError('<urllib3.connection.VerifiedHTTPSConnection object at 0x1044762b0>: Failed to establish a new connection: [Errno 8] nodename nor servname provided, or not known',))"
     ]
    }
   ],
   "source": [
    "api.retweet(1013717452268584961)"
   ]
  },
  {
   "cell_type": "code",
   "execution_count": 38,
   "metadata": {},
   "outputs": [
    {
     "name": "stdout",
     "output_type": "stream",
     "text": [
      "I liked a @YouTube video https://t.co/GDS3GazvCz Azadi ( Dub Sharma) Video\n",
      "I liked a @YouTube video https://t.co/VlLiliGfjj AIB : Arranged Move In\n",
      "I liked a @YouTube video https://t.co/lTAXT2WXNo आंसुओं को रोक नहीं पाएंगे ! Media will not\n",
      "I liked a @YouTube video https://t.co/F68EEy3PBV The RoastMasters 8.9.16: Dina Hashem vs. Samantha Ruddy\n",
      "trying out #followforfollow #FollowForFollow #f4f #follow4follow #Follow4Follow\n",
      "I liked a @YouTube video https://t.co/BkhGoeL2Co Shut Up Ya Kunal - Episode 4 : Journalism &amp; Defamation\n",
      "I liked a @YouTube video https://t.co/2roSPkcJ25 Country Main GHAPAGHAP | Viral Fuddu\n",
      "I liked a @YouTube video https://t.co/4LT1p66DXG TVF College Admission Qtiyapa | Ek Admission Aisa Bhi\n",
      "I liked a @YouTube video https://t.co/WUVfPAeevi The RoastMasters Tournament 8.21.17: Mike Recine vs. Dina Hashem\n",
      "I liked a @YouTube video https://t.co/MSf5F98Rdl Shy deadpan girl viciously defeats a big loud guy in a NYC comedy roast battle\n",
      "I liked a @YouTube video https://t.co/dwMnvbnBdf T.J. Miller's 100% improvised set from \"SET LIST: Standup w/o A Net\" on SkyAtlantic\n",
      "I liked a @YouTube video https://t.co/zCh73MYmvD BJP IT Cell Insider Interview with Dhruv Rathee\n",
      "I liked a @YouTube video https://t.co/LjNvgOYGAe Trashy Sanju &amp; Rain | TRASHY Thursday | Episode 10\n",
      "I liked a @YouTube video https://t.co/wWK7shNrgf Weed Smokin' Kids (Stand Up Comedy)\n",
      "I liked a @YouTube video https://t.co/cSXdeWM6tf Moksi (DJ-set LIVE @ ADE) | SLAM!\n",
      "I liked a @YouTube video https://t.co/qLcVE8Xxyt DIVINE - GULLY GANG - ft. Modi Mashup\n",
      "I liked a @YouTube video https://t.co/DAPx9TSJRJ Dame Tu Cosita Mashup | Ft.Sunny Deol | Funny Dancing\n",
      "I liked a @YouTube video https://t.co/HHj0CQDmiU Yellow Claw &amp; DJ Snake - Ft. Manoj Tiwari | Bhojpuri Trippy Mashup\n",
      "I liked a @YouTube video https://t.co/YWfMBtKfix Ab Dangal Hoga | Modi Fitness Challenge | Modi Dancing Mashup\n",
      "I liked a @YouTube video https://t.co/PFmilt7sho Ganja - Ft. Ramdev Baba REMIX! | ssquare x Dipraj Jadhav\n"
     ]
    }
   ],
   "source": [
    "#reverting the changes.\n",
    "for status in api.user_timeline(\"Ayushxx7\"):\n",
    "    print(status.text)\n",
    "    api.destroy_favorite(status.id)"
   ]
  },
  {
   "cell_type": "markdown",
   "metadata": {},
   "source": [
    "#### Experimenting with twitter list."
   ]
  },
  {
   "cell_type": "code",
   "execution_count": 50,
   "metadata": {},
   "outputs": [],
   "source": [
    "sports_list = api.create_list(name = 'sports', description = 'List of sports figures.')"
   ]
  },
  {
   "cell_type": "code",
   "execution_count": 51,
   "metadata": {},
   "outputs": [
    {
     "data": {
      "text/plain": [
       "1016937114892529664"
      ]
     },
     "execution_count": 51,
     "metadata": {},
     "output_type": "execute_result"
    }
   ],
   "source": [
    "sports_list.id"
   ]
  },
  {
   "cell_type": "code",
   "execution_count": 45,
   "metadata": {},
   "outputs": [],
   "source": [
    "# sports_list = api.get_list('you_are_that', slug = 'sports')"
   ]
  },
  {
   "cell_type": "code",
   "execution_count": 46,
   "metadata": {},
   "outputs": [],
   "source": [
    "# list_members = sports_list.members()"
   ]
  },
  {
   "cell_type": "code",
   "execution_count": 47,
   "metadata": {},
   "outputs": [],
   "source": [
    "#sports_list.id"
   ]
  },
  {
   "cell_type": "code",
   "execution_count": 48,
   "metadata": {},
   "outputs": [],
   "source": [
    "# for member in list_members:\n",
    "#     print(member.description, \"id:\", member.id)"
   ]
  },
  {
   "cell_type": "code",
   "execution_count": 55,
   "metadata": {},
   "outputs": [],
   "source": [
    "for friend in tweepy.Cursor(api.friends).items(4):\n",
    "    api.add_list_member(list_id = sports_list.id, user_id= friend.id)"
   ]
  },
  {
   "cell_type": "code",
   "execution_count": 53,
   "metadata": {},
   "outputs": [
    {
     "data": {
      "text/plain": [
       "'sports'"
      ]
     },
     "execution_count": 53,
     "metadata": {},
     "output_type": "execute_result"
    }
   ],
   "source": [
    "sports_list.slug"
   ]
  },
  {
   "cell_type": "code",
   "execution_count": 57,
   "metadata": {},
   "outputs": [],
   "source": [
    "for friend in api.friends():\n",
    "    api.destroy_friendship(friend.id)"
   ]
  },
  {
   "cell_type": "markdown",
   "metadata": {},
   "source": [
    "#### Retweeting your tweets in your timeline."
   ]
  },
  {
   "cell_type": "code",
   "execution_count": 8,
   "metadata": {},
   "outputs": [],
   "source": [
    "for tweet in  tweepy.Cursor(api.home_timeline).items(5):\n",
    "    api.unretweet(tweet.id)"
   ]
  },
  {
   "cell_type": "code",
   "execution_count": null,
   "metadata": {},
   "outputs": [],
   "source": []
  }
 ],
 "metadata": {
  "kernelspec": {
   "display_name": "Python 3",
   "language": "python",
   "name": "python3"
  },
  "language_info": {
   "codemirror_mode": {
    "name": "ipython",
    "version": 3
   },
   "file_extension": ".py",
   "mimetype": "text/x-python",
   "name": "python",
   "nbconvert_exporter": "python",
   "pygments_lexer": "ipython3",
   "version": "3.6.5"
  }
 },
 "nbformat": 4,
 "nbformat_minor": 2
}
